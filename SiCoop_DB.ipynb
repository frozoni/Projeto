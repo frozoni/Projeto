{
  "nbformat": 4,
  "nbformat_minor": 0,
  "metadata": {
    "colab": {
      "provenance": [],
      "collapsed_sections": [
        "nFid9rzkHQlo",
        "_ezixuKhIS8o",
        "2cV1lP6c8JB4",
        "qDNA3Y5B9RnY",
        "XlIegJmT9wyF",
        "uRjGYdfY-oTW",
        "yvVBaQom_aE5",
        "BicxiLJXAaj5",
        "2YSuVVNqAmY_",
        "hLRgSGU0Btmo",
        "qWt5hEurHLC0",
        "gmZtXkgxROfY"
      ],
      "include_colab_link": true
    },
    "kernelspec": {
      "name": "python3",
      "display_name": "Python 3"
    },
    "language_info": {
      "name": "python"
    }
  },
  "cells": [
    {
      "cell_type": "markdown",
      "metadata": {
        "id": "view-in-github",
        "colab_type": "text"
      },
      "source": [
        "<a href=\"https://colab.research.google.com/github/frozoni/frozoni/blob/main/SiCoop_DB.ipynb\" target=\"_parent\"><img src=\"https://colab.research.google.com/assets/colab-badge.svg\" alt=\"Open In Colab\"/></a>"
      ]
    },
    {
      "cell_type": "markdown",
      "source": [
        "# **INSTALAÇÃO DE BIBLIOTECAS E DEPÊNCIAS**"
      ],
      "metadata": {
        "id": "nFid9rzkHQlo"
      }
    },
    {
      "cell_type": "code",
      "source": [
        "from google.colab import drive\n",
        "drive.mount('/content/drive')"
      ],
      "metadata": {
        "id": "12s1t5k6Xdvw",
        "colab": {
          "base_uri": "https://localhost:8080/"
        },
        "outputId": "7421a05a-d41b-4c60-e608-46ead858961b"
      },
      "execution_count": 112,
      "outputs": [
        {
          "output_type": "stream",
          "name": "stdout",
          "text": [
            "Drive already mounted at /content/drive; to attempt to forcibly remount, call drive.mount(\"/content/drive\", force_remount=True).\n"
          ]
        }
      ]
    },
    {
      "cell_type": "code",
      "source": [
        "pip install pymysql"
      ],
      "metadata": {
        "id": "Vciw2MX1CtFa",
        "colab": {
          "base_uri": "https://localhost:8080/"
        },
        "outputId": "b81e0547-2824-488b-c6a6-83b37a439f16"
      },
      "execution_count": 113,
      "outputs": [
        {
          "output_type": "stream",
          "name": "stdout",
          "text": [
            "Requirement already satisfied: pymysql in /usr/local/lib/python3.10/dist-packages (1.1.0)\n"
          ]
        }
      ]
    },
    {
      "cell_type": "code",
      "source": [
        "pip install pyspark"
      ],
      "metadata": {
        "id": "ANo6fnbFnaKm",
        "colab": {
          "base_uri": "https://localhost:8080/"
        },
        "outputId": "92ed6e43-c7cc-4291-d69e-51bed6a3a629"
      },
      "execution_count": 114,
      "outputs": [
        {
          "output_type": "stream",
          "name": "stdout",
          "text": [
            "Requirement already satisfied: pyspark in /usr/local/lib/python3.10/dist-packages (3.5.0)\n",
            "Requirement already satisfied: py4j==0.10.9.7 in /usr/local/lib/python3.10/dist-packages (from pyspark) (0.10.9.7)\n"
          ]
        }
      ]
    },
    {
      "cell_type": "code",
      "source": [
        "import sqlalchemy\n",
        "import pymysql\n",
        "import sqlite3\n",
        "import pandas as pd\n",
        "from sqlalchemy import create_engine, text\n",
        "from sqlalchemy.engine import cursor\n",
        "from pyspark.sql import SparkSession\n",
        "from pyspark.sql.functions import *\n",
        "from pyspark import *"
      ],
      "metadata": {
        "id": "1GQBsEJYCoMR"
      },
      "execution_count": 115,
      "outputs": []
    },
    {
      "cell_type": "code",
      "source": [
        "spark = SparkSession.builder.appName(\"SQLiteToDataFrame\").getOrCreate()"
      ],
      "metadata": {
        "id": "vtgaWDbKni1K"
      },
      "execution_count": 117,
      "outputs": []
    },
    {
      "cell_type": "markdown",
      "source": [
        "# **CRIAÇÃO DO BANCO DE DADOS NO COLAB**"
      ],
      "metadata": {
        "id": "DM5uQonwIKzL"
      }
    },
    {
      "cell_type": "code",
      "source": [
        "conn = sqlite3.connect('/content/drive/MyDrive/Colab Notebooks/SiCoop_DB.db')"
      ],
      "metadata": {
        "id": "nAI9hdmwDvq1"
      },
      "execution_count": 118,
      "outputs": []
    },
    {
      "cell_type": "markdown",
      "source": [
        "# **CRIAÇÃO DE TABELAS**"
      ],
      "metadata": {
        "id": "_ezixuKhIS8o"
      }
    },
    {
      "cell_type": "code",
      "source": [
        "conn.execute('''\n",
        "CREATE TABLE movimento (\n",
        "\tid INTEGER PRIMARY KEY ,\n",
        "\tvlr_transacao DECIMAL(10,2),\n",
        "\tdes_transacao varchar(255),\n",
        "\tdata_movimento DATETIME,\n",
        "\tid_cartao  VARCHAR(50)\n",
        ");\n",
        "\n",
        "''')\n",
        "conn.commit()"
      ],
      "metadata": {
        "id": "B4oYs3y1D-9Q"
      },
      "execution_count": 119,
      "outputs": []
    },
    {
      "cell_type": "code",
      "source": [
        "conn.execute('''\n",
        "CREATE TABLE cartao (\n",
        "  id_cartao VARCHAR(50) PRIMARY KEY,\n",
        "  num_cartao BIGINT,\n",
        "  nom_impresso varchar(100),\n",
        "  id_conta INTEGER,\n",
        "  id_associado INTEGER\n",
        ");\n",
        "''')\n",
        "conn.commit()"
      ],
      "metadata": {
        "id": "WLoOaYQ2IXHH"
      },
      "execution_count": 120,
      "outputs": []
    },
    {
      "cell_type": "code",
      "source": [
        "conn.execute('''\n",
        "CREATE TABLE conta (\n",
        "\tid_conta INTEGER PRIMARY KEY,\n",
        "\ttipo VARCHAR(100),\n",
        "\tdata_criacao DATETIME,\n",
        "\tid_associado INTEGER\n",
        ");\n",
        "''')\n",
        "conn.commit()"
      ],
      "metadata": {
        "id": "wbsEboxYIWuA"
      },
      "execution_count": 121,
      "outputs": []
    },
    {
      "cell_type": "code",
      "source": [
        "conn.execute('''\n",
        "CREATE TABLE associado (\n",
        "\tid_associado INTEGER PRIMARY KEY ,\n",
        "\tnome varchar(100),\n",
        "\tsobrenome varchar(100),\n",
        "\tidade INTEGER,\n",
        "\temail varchar(255)\n",
        ");\n",
        "''')\n",
        "conn.commit()"
      ],
      "metadata": {
        "id": "H7XvoDd7IWd4"
      },
      "execution_count": 122,
      "outputs": []
    },
    {
      "cell_type": "markdown",
      "source": [
        "# **INSERÇÃO DE DADOS**\n"
      ],
      "metadata": {
        "id": "OXcJ-84uKr-n"
      }
    },
    {
      "cell_type": "code",
      "source": [
        "conn.execute(\"INSERT INTO movimento VALUES(01, 50.00, 'Netshoes', '2020-01-27 12:00:00', 'Visa01');\")\n",
        "conn.execute(\"INSERT INTO movimento VALUES(02, 75.00, 'Amazon', '2020-01-28 13:30:00', 'Mastercard01');\")\n",
        "conn.execute(\"INSERT INTO movimento VALUES(03, 30.50, 'Walmart', '2020-01-29 15:15:00', 'Visa02');\")\n",
        "conn.execute(\"INSERT INTO movimento VALUES(04, 20.25, 'Ebay', '2020-01-30 09:45:00', 'Amex01');\")\n",
        "conn.execute(\"INSERT INTO movimento VALUES(05, 45.75, 'Eletroshop', '2020-02-01 14:20:00', 'Mastercard02');\")\n",
        "conn.execute(\"INSERT INTO movimento VALUES(06, 22.90, 'Target', '2020-02-02 16:40:00', 'Visa03');\")\n",
        "conn.execute(\"INSERT INTO movimento VALUES(07, 18.60, 'Best Buy', '2020-02-03 11:10:00', 'Amex02');\")\n",
        "conn.execute(\"INSERT INTO movimento VALUES(08, 67.20, 'Walmart', '2020-02-04 10:30:00', 'Visa04');\")\n",
        "conn.execute(\"INSERT INTO movimento VALUES(09, 12.50, 'Amazon', '2020-02-05 17:25:00', 'Mastercard03');\")\n",
        "conn.execute(\"INSERT INTO movimento VALUES(10, 38.90, 'Apple Store', '2020-02-06 14:55:00', 'Amex03');\")\n",
        "conn.execute(\"INSERT INTO movimento VALUES(11, 54.75, 'Nike', '2020-02-07 09:20:00', 'Visa05');\")\n",
        "conn.execute(\"INSERT INTO movimento VALUES(12, 29.99, 'Starbucks', '2020-02-08 13:45:00', 'Mastercard04');\")\n",
        "conn.execute(\"INSERT INTO movimento VALUES(13, 14.25, 'H&M', '2020-02-09 11:30:00', 'Visa06');\")\n",
        "conn.execute(\"INSERT INTO movimento VALUES(14, 40.50, 'Zara', '2020-02-10 14:10:00', 'Amex04');\")\n",
        "conn.execute(\"INSERT INTO movimento VALUES(15, 75.80, 'McDonald', '2020-02-11 18:05:00', 'Mastercard05');\")\n",
        "conn.execute(\"INSERT INTO movimento VALUES(16, 27.60, 'Burger King', '2020-02-12 16:15:00', 'Visa07');\")\n",
        "conn.execute(\"INSERT INTO movimento VALUES(17, 36.40, 'Subway', '2020-02-13 10:55:00', 'Mastercard06');\")\n",
        "conn.execute(\"INSERT INTO movimento VALUES(18, 19.95, 'Domino', '2020-02-14 12:40:00', 'Amex05');\")\n",
        "conn.execute(\"INSERT INTO movimento VALUES(19, 48.30, 'KFC', '2020-02-15 09:10:00', 'Visa08');\")\n",
        "conn.execute(\"INSERT INTO movimento VALUES(20, 63.70, 'Pizza Hut', '2020-02-16 15:30:00', 'Mastercard07');\")\n",
        "conn.execute(\"INSERT INTO movimento VALUES(21, 25.50, 'Coca-Cola', '2020-02-17 17:20:00', 'Visa09');\")\n",
        "conn.execute(\"INSERT INTO movimento VALUES(22, 32.75, 'Pepsi', '2020-02-18 11:50:00', 'Amex06');\")\n",
        "conn.execute(\"INSERT INTO movimento VALUES(23, 15.40, 'Fanta', '2020-02-19 14:45:00', 'Visa10');\")\n",
        "conn.execute(\"INSERT INTO movimento VALUES(24, 55.00, 'Ford', '2020-02-20 13:05:00', 'Mastercard08');\")\n",
        "conn.execute(\"INSERT INTO movimento VALUES(25, 40.20, 'Toyota', '2020-02-21 09:40:00', 'Amex07');\")\n",
        "conn.execute(\"INSERT INTO movimento VALUES(26, 80.90, 'Chevrolet', '2020-02-22 14:35:00', 'Visa11');\")\n",
        "conn.execute(\"INSERT INTO movimento VALUES(27, 28.60, 'Honda', '2020-02-23 16:50:00', 'Mastercard09');\")\n",
        "conn.execute(\"INSERT INTO movimento VALUES(28, 22.75, 'Nissan', '2020-02-24 10:25:00', 'Visa12');\")\n",
        "conn.execute(\"INSERT INTO movimento VALUES(29, 75.40, 'Mercedes-Benz', '2020-02-25 15:15:00', 'Amex08');\")\n",
        "conn.execute(\"INSERT INTO movimento VALUES(30, 67.80, 'BMW', '2020-02-26 12:20:00', 'Mastercard10');\")\n",
        "conn.commit()"
      ],
      "metadata": {
        "id": "COsWOK9-EUBx"
      },
      "execution_count": 123,
      "outputs": []
    },
    {
      "cell_type": "code",
      "source": [
        "conn.execute(\"INSERT INTO conta VALUES(0101, 'Conta Corrente', '2000-05-01 00:00:00', 001);\")\n",
        "conn.execute(\"INSERT INTO conta VALUES(0102, 'Conta Corrente', '2005-07-03 00:00:00', 002);\")\n",
        "conn.execute(\"INSERT INTO conta VALUES(0103, 'Conta Corrente', '2010-12-12 00:00:00', 003);\")\n",
        "conn.execute(\"INSERT INTO conta VALUES(0104, 'Conta Corrente', '2012-09-22 00:00:00', 004);\")\n",
        "conn.execute(\"INSERT INTO conta VALUES(0105, 'Conta Corrente', '2003-03-15 00:00:00', 005);\")\n",
        "conn.execute(\"INSERT INTO conta VALUES(0106, 'Conta Corrente', '2008-08-10 00:00:00', 006);\")\n",
        "conn.execute(\"INSERT INTO conta VALUES(0107, 'Conta Corrente', '2015-06-19 00:00:00', 007);\")\n",
        "conn.execute(\"INSERT INTO conta VALUES(0108, 'Conta Corrente', '2011-02-27 00:00:00', 008);\")\n",
        "conn.execute(\"INSERT INTO conta VALUES(0109, 'Conta Corrente', '2007-11-07 00:00:00', 009);\")\n",
        "conn.execute(\"INSERT INTO conta VALUES(0110, 'Conta Corrente', '2005-04-14 00:00:00', 010);\")\n",
        "conn.execute(\"INSERT INTO conta VALUES(0111, 'Conta Corrente', '2013-10-09 00:00:00', 011);\")\n",
        "conn.execute(\"INSERT INTO conta VALUES(0112, 'Conta Corrente', '2018-01-06 00:00:00', 012);\")\n",
        "conn.execute(\"INSERT INTO conta VALUES(0113, 'Conta Corrente', '2016-05-20 00:00:00', 013);\")\n",
        "conn.execute(\"INSERT INTO conta VALUES(0114, 'Conta Corrente', '2014-09-18 00:00:00', 014);\")\n",
        "conn.execute(\"INSERT INTO conta VALUES(0115, 'Conta Corrente', '2009-03-03 00:00:00', 015);\")\n",
        "conn.execute(\"INSERT INTO conta VALUES(0116, 'Conta Corrente', '2017-12-30 00:00:00', 016);\")\n",
        "conn.execute(\"INSERT INTO conta VALUES(0117, 'Conta Corrente', '2006-08-25 00:00:00', 017);\")\n",
        "conn.execute(\"INSERT INTO conta VALUES(0118, 'Conta Corrente', '2011-06-11 00:00:00', 018);\")\n",
        "conn.execute(\"INSERT INTO conta VALUES(0119, 'Conta Corrente', '2012-04-02 00:00:00', 019);\")\n",
        "conn.execute(\"INSERT INTO conta VALUES(0120, 'Conta Corrente', '2019-07-12 00:00:00', 020);\")\n",
        "conn.execute(\"INSERT INTO conta VALUES(0121, 'Conta Corrente', '2010-11-29 00:00:00', 021);\")\n",
        "conn.execute(\"INSERT INTO conta VALUES(0122, 'Conta Corrente', '2014-01-05 00:00:00', 022);\")\n",
        "conn.execute(\"INSERT INTO conta VALUES(0123, 'Conta Corrente', '2008-06-08 00:00:00', 023);\")\n",
        "conn.execute(\"INSERT INTO conta VALUES(0124, 'Conta Corrente', '2015-09-17 00:00:00', 024);\")\n",
        "conn.execute(\"INSERT INTO conta VALUES(0125, 'Conta Corrente', '2002-02-13 00:00:00', 025);\")\n",
        "conn.execute(\"INSERT INTO conta VALUES(0126, 'Conta Corrente', '2017-04-21 00:00:00', 026);\")\n",
        "conn.execute(\"INSERT INTO conta VALUES(0127, 'Conta Corrente', '2013-10-04 00:00:00', 027);\")\n",
        "conn.execute(\"INSERT INTO conta VALUES(0128, 'Conta Corrente', '2016-07-26 00:00:00', 028);\")\n",
        "conn.execute(\"INSERT INTO conta VALUES(0129, 'Conta Corrente', '2011-12-10 00:00:00', 029);\")\n",
        "conn.execute(\"INSERT INTO conta VALUES(0130, 'Conta Corrente', '2006-03-09 00:00:00', 030);\")\n",
        "conn.commit()"
      ],
      "metadata": {
        "id": "eYdn9RFfKzL_"
      },
      "execution_count": 124,
      "outputs": []
    },
    {
      "cell_type": "code",
      "source": [
        "conn.execute(\"INSERT INTO cartao VALUES('Visa01', '6334583651368754', 'Axel Hoffman', '0101', '001');\")\n",
        "conn.execute(\"INSERT INTO cartao VALUES('Mastercard01', '5450787612345678', 'Maria Silva', '0102', '002');\")\n",
        "conn.execute(\"INSERT INTO cartao VALUES('Visa02', '4567890123456789', 'João Pereira', '0103', '003');\")\n",
        "conn.execute(\"INSERT INTO cartao VALUES('Amex01', '378282246310005', 'Luis Santos', '0104', '004');\")\n",
        "conn.execute(\"INSERT INTO cartao VALUES('Mastercard02', '5123456789012345', 'Laura Oliveira', '0105', '005');\")\n",
        "conn.execute(\"INSERT INTO cartao VALUES('Visa03', '6011223344556677', 'Carlos Ferreira', '0106', '006');\")\n",
        "conn.execute(\"INSERT INTO cartao VALUES('Amex02', '371449635398831', 'Ana Souza', '0107', '007');\")\n",
        "conn.execute(\"INSERT INTO cartao VALUES('Visa04', '4917951125400640', 'Pedro Rodrigues', '0108', '008');\")\n",
        "conn.execute(\"INSERT INTO cartao VALUES('Mastercard03', '5105105105105100', 'Mariana Santos', '0109', '009');\")\n",
        "conn.execute(\"INSERT INTO cartao VALUES('Amex03', '37240907424042', 'Ricardo Pereira', '0110', '010');\")\n",
        "conn.execute(\"INSERT INTO cartao VALUES('Visa05', '4040400040004000', 'Juliana Oliveira', '0111', '011');\")\n",
        "conn.execute(\"INSERT INTO cartao VALUES('Mastercard04', '5555555555555555', 'Lucas Silva', '0112', '012');\")\n",
        "conn.execute(\"INSERT INTO cartao VALUES('Visa06', '4111111111111111', 'Carla Rodrigues', '0113', '013');\")\n",
        "conn.execute(\"INSERT INTO cartao VALUES('Amex04', '378734493671000', 'Daniel Ferreira', '0114', '014');\")\n",
        "conn.execute(\"INSERT INTO cartao VALUES('Visa07', '4916749677585942', 'Isabela Souza', '0115', '015');\")\n",
        "conn.execute(\"INSERT INTO cartao VALUES('Mastercard05', '5204140234347679', 'Felipe Oliveira', '0116', '016');\")\n",
        "conn.execute(\"INSERT INTO cartao VALUES('Visa08', '4984511671178312', 'Renata Pereira', '0117', '017');\")\n",
        "conn.execute(\"INSERT INTO cartao VALUES('Mastercard06', '5301055050054402', 'Marcos Santos', '0118', '018');\")\n",
        "conn.execute(\"INSERT INTO cartao VALUES('Amex05', '370266620070673', 'Camila Rodrigues', '0119', '019');\")\n",
        "conn.execute(\"INSERT INTO cartao VALUES('Visa09', '4556789012345670', 'Gustavo Ferreira', '0120', '020');\")\n",
        "conn.execute(\"INSERT INTO cartao VALUES('Mastercard07', '5181188118811881', 'Aline Oliveira', '0121', '021');\")\n",
        "conn.execute(\"INSERT INTO cartao VALUES('Amex06', '3717171717171717', 'Luciana Silva', '0122', '022');\")\n",
        "conn.execute(\"INSERT INTO cartao VALUES('Visa10', '4012345678901234', 'Thiago Rodrigues', '0123', '023');\")\n",
        "conn.execute(\"INSERT INTO cartao VALUES('Mastercard08', '4111111111111111', 'Roberto Pereira', '0124', '024');\")\n",
        "conn.execute(\"INSERT INTO cartao VALUES('Amex07', '3702000000000002', 'Patricia Souza', '0125', '025');\")\n",
        "conn.execute(\"INSERT INTO cartao VALUES('Visa11', '5555555555555555', 'Henrique Oliveira', '0126', '026');\")\n",
        "conn.execute(\"INSERT INTO cartao VALUES('Mastercard09', '5123456789012345', 'Cristina Santos', '0127', '027');\")\n",
        "conn.execute(\"INSERT INTO cartao VALUES('Visa12', '6011223344556677', 'Eduardo Ferreira', '0128', '028');\")\n",
        "conn.execute(\"INSERT INTO cartao VALUES('Amex08', '371449635398831', 'Larissa Rodrigues', '0129', '029');\")\n",
        "conn.execute(\"INSERT INTO cartao VALUES('Mastercard10', '4917951125400640', 'Fernando Pereira', '0130', '030');\")\n",
        "conn.commit()"
      ],
      "metadata": {
        "id": "lcD-JcaTlsUq"
      },
      "execution_count": 125,
      "outputs": []
    },
    {
      "cell_type": "code",
      "source": [
        "conn.execute(\"INSERT INTO associado VALUES(001, 'Axel', 'Hoffman', 45, 'pellentesque.massa@yahoo.edu');\")\n",
        "conn.execute(\"INSERT INTO associado VALUES(002, 'Maria', 'Silva', 35, 'maria.silva@email.com');\")\n",
        "conn.execute(\"INSERT INTO associado VALUES(003, 'João', 'Pereira', 28, 'joao.pereira@email.com');\")\n",
        "conn.execute(\"INSERT INTO associado VALUES(004, 'Luis', 'Santos', 40, 'luis.santos@email.com');\")\n",
        "conn.execute(\"INSERT INTO associado VALUES(005, 'Laura', 'Oliveira', 33, 'laura.oliveira@email.com');\")\n",
        "conn.execute(\"INSERT INTO associado VALUES(006, 'Carlos', 'Ferreira', 37, 'carlos.ferreira@email.com');\")\n",
        "conn.execute(\"INSERT INTO associado VALUES(007, 'Ana', 'Souza', 29, 'ana.souza@email.com');\")\n",
        "conn.execute(\"INSERT INTO associado VALUES(008, 'Pedro', 'Rodrigues', 42, 'pedro.rodrigues@email.com');\")\n",
        "conn.execute(\"INSERT INTO associado VALUES(009, 'Mariana', 'Santos', 31, 'mariana.santos@email.com');\")\n",
        "conn.execute(\"INSERT INTO associado VALUES(010, 'Ricardo', 'Pereira', 36, 'ricardo.pereira@email.com');\")\n",
        "conn.execute(\"INSERT INTO associado VALUES(011, 'Juliana', 'Oliveira', 27, 'juliana.oliveira@email.com');\")\n",
        "conn.execute(\"INSERT INTO associado VALUES(012, 'Lucas', 'Silva', 34, 'lucas.silva@email.com');\")\n",
        "conn.execute(\"INSERT INTO associado VALUES(013, 'Carla', 'Rodrigues', 38, 'carla.rodrigues@email.com');\")\n",
        "conn.execute(\"INSERT INTO associado VALUES(014, 'Daniel', 'Ferreira', 41, 'daniel.ferreira@email.com');\")\n",
        "conn.execute(\"INSERT INTO associado VALUES(015, 'Isabela', 'Souza', 26, 'isabela.souza@email.com');\")\n",
        "conn.execute(\"INSERT INTO associado VALUES(016, 'Felipe', 'Oliveira', 30, 'felipe.oliveira@email.com');\")\n",
        "conn.execute(\"INSERT INTO associado VALUES(017, 'Renata', 'Pereira', 32, 'renata.pereira@email.com');\")\n",
        "conn.execute(\"INSERT INTO associado VALUES(018, 'Marcos', 'Santos', 39, 'marcos.santos@email.com');\")\n",
        "conn.execute(\"INSERT INTO associado VALUES(019, 'Camila', 'Rodrigues', 43, 'camila.rodrigues@email.com');\")\n",
        "conn.execute(\"INSERT INTO associado VALUES(020, 'Gustavo', 'Ferreira', 28, 'gustavo.ferreira@email.com');\")\n",
        "conn.execute(\"INSERT INTO associado VALUES(021, 'Aline', 'Oliveira', 35, 'aline.oliveira@email.com');\")\n",
        "conn.execute(\"INSERT INTO associado VALUES(022, 'Luciana', 'Silva', 31, 'luciana.silva@email.com');\")\n",
        "conn.execute(\"INSERT INTO associado VALUES(023, 'Thiago', 'Rodrigues', 30, 'thiago.rodrigues@email.com');\")\n",
        "conn.execute(\"INSERT INTO associado VALUES(024, 'Roberto', 'Pereira', 37, 'roberto.pereira@email.com');\")\n",
        "conn.execute(\"INSERT INTO associado VALUES(025, 'Patricia', 'Souza', 33, 'patricia.souza@email.com');\")\n",
        "conn.execute(\"INSERT INTO associado VALUES(026, 'Henrique', 'Oliveira', 29, 'henrique.oliveira@email.com');\")\n",
        "conn.execute(\"INSERT INTO associado VALUES(027, 'Cristina', 'Santos', 35, 'cristina.santos@email.com');\")\n",
        "conn.execute(\"INSERT INTO associado VALUES(028, 'Eduardo', 'Ferreira', 38, 'eduardo.ferreira@email.com');\")\n",
        "conn.execute(\"INSERT INTO associado VALUES(029, 'Larissa', 'Rodrigues', 32, 'larissa.rodrigues@email.com');\")\n",
        "conn.execute(\"INSERT INTO associado VALUES(030, 'Fernando', 'Pereira', 36, 'fernando.pereira@email.com');\")\n",
        "conn.commit()"
      ],
      "metadata": {
        "id": "Sh7t_6jOmP9Z"
      },
      "execution_count": 126,
      "outputs": []
    },
    {
      "cell_type": "markdown",
      "source": [
        "# **Criação do DF TB_Movimento**"
      ],
      "metadata": {
        "id": "dLePRD_Sm-qi"
      }
    },
    {
      "cell_type": "code",
      "source": [
        "qry_movimento = \"\"\"\n",
        "SELECT * FROM movimento\n",
        "\"\"\"\n",
        "df_movimento = pd.read_sql_query(qry_movimento, conn)\n",
        "df_movimento.head()"
      ],
      "metadata": {
        "colab": {
          "base_uri": "https://localhost:8080/",
          "height": 206
        },
        "id": "TtT4E7l-wDyi",
        "outputId": "d08666af-05ba-4f28-e572-3d5f670e15a1"
      },
      "execution_count": 128,
      "outputs": [
        {
          "output_type": "execute_result",
          "data": {
            "text/plain": [
              "   id  vlr_transacao des_transacao       data_movimento     id_cartao\n",
              "0   1          50.00      Netshoes  2020-01-27 12:00:00        Visa01\n",
              "1   2          75.00        Amazon  2020-01-28 13:30:00  Mastercard01\n",
              "2   3          30.50       Walmart  2020-01-29 15:15:00        Visa02\n",
              "3   4          20.25          Ebay  2020-01-30 09:45:00        Amex01\n",
              "4   5          45.75    Eletroshop  2020-02-01 14:20:00  Mastercard02"
            ],
            "text/html": [
              "\n",
              "  <div id=\"df-28c5364d-e4b2-41a4-9aa3-e6d29d10e591\" class=\"colab-df-container\">\n",
              "    <div>\n",
              "<style scoped>\n",
              "    .dataframe tbody tr th:only-of-type {\n",
              "        vertical-align: middle;\n",
              "    }\n",
              "\n",
              "    .dataframe tbody tr th {\n",
              "        vertical-align: top;\n",
              "    }\n",
              "\n",
              "    .dataframe thead th {\n",
              "        text-align: right;\n",
              "    }\n",
              "</style>\n",
              "<table border=\"1\" class=\"dataframe\">\n",
              "  <thead>\n",
              "    <tr style=\"text-align: right;\">\n",
              "      <th></th>\n",
              "      <th>id</th>\n",
              "      <th>vlr_transacao</th>\n",
              "      <th>des_transacao</th>\n",
              "      <th>data_movimento</th>\n",
              "      <th>id_cartao</th>\n",
              "    </tr>\n",
              "  </thead>\n",
              "  <tbody>\n",
              "    <tr>\n",
              "      <th>0</th>\n",
              "      <td>1</td>\n",
              "      <td>50.00</td>\n",
              "      <td>Netshoes</td>\n",
              "      <td>2020-01-27 12:00:00</td>\n",
              "      <td>Visa01</td>\n",
              "    </tr>\n",
              "    <tr>\n",
              "      <th>1</th>\n",
              "      <td>2</td>\n",
              "      <td>75.00</td>\n",
              "      <td>Amazon</td>\n",
              "      <td>2020-01-28 13:30:00</td>\n",
              "      <td>Mastercard01</td>\n",
              "    </tr>\n",
              "    <tr>\n",
              "      <th>2</th>\n",
              "      <td>3</td>\n",
              "      <td>30.50</td>\n",
              "      <td>Walmart</td>\n",
              "      <td>2020-01-29 15:15:00</td>\n",
              "      <td>Visa02</td>\n",
              "    </tr>\n",
              "    <tr>\n",
              "      <th>3</th>\n",
              "      <td>4</td>\n",
              "      <td>20.25</td>\n",
              "      <td>Ebay</td>\n",
              "      <td>2020-01-30 09:45:00</td>\n",
              "      <td>Amex01</td>\n",
              "    </tr>\n",
              "    <tr>\n",
              "      <th>4</th>\n",
              "      <td>5</td>\n",
              "      <td>45.75</td>\n",
              "      <td>Eletroshop</td>\n",
              "      <td>2020-02-01 14:20:00</td>\n",
              "      <td>Mastercard02</td>\n",
              "    </tr>\n",
              "  </tbody>\n",
              "</table>\n",
              "</div>\n",
              "    <div class=\"colab-df-buttons\">\n",
              "\n",
              "  <div class=\"colab-df-container\">\n",
              "    <button class=\"colab-df-convert\" onclick=\"convertToInteractive('df-28c5364d-e4b2-41a4-9aa3-e6d29d10e591')\"\n",
              "            title=\"Convert this dataframe to an interactive table.\"\n",
              "            style=\"display:none;\">\n",
              "\n",
              "  <svg xmlns=\"http://www.w3.org/2000/svg\" height=\"24px\" viewBox=\"0 -960 960 960\">\n",
              "    <path d=\"M120-120v-720h720v720H120Zm60-500h600v-160H180v160Zm220 220h160v-160H400v160Zm0 220h160v-160H400v160ZM180-400h160v-160H180v160Zm440 0h160v-160H620v160ZM180-180h160v-160H180v160Zm440 0h160v-160H620v160Z\"/>\n",
              "  </svg>\n",
              "    </button>\n",
              "\n",
              "  <style>\n",
              "    .colab-df-container {\n",
              "      display:flex;\n",
              "      gap: 12px;\n",
              "    }\n",
              "\n",
              "    .colab-df-convert {\n",
              "      background-color: #E8F0FE;\n",
              "      border: none;\n",
              "      border-radius: 50%;\n",
              "      cursor: pointer;\n",
              "      display: none;\n",
              "      fill: #1967D2;\n",
              "      height: 32px;\n",
              "      padding: 0 0 0 0;\n",
              "      width: 32px;\n",
              "    }\n",
              "\n",
              "    .colab-df-convert:hover {\n",
              "      background-color: #E2EBFA;\n",
              "      box-shadow: 0px 1px 2px rgba(60, 64, 67, 0.3), 0px 1px 3px 1px rgba(60, 64, 67, 0.15);\n",
              "      fill: #174EA6;\n",
              "    }\n",
              "\n",
              "    .colab-df-buttons div {\n",
              "      margin-bottom: 4px;\n",
              "    }\n",
              "\n",
              "    [theme=dark] .colab-df-convert {\n",
              "      background-color: #3B4455;\n",
              "      fill: #D2E3FC;\n",
              "    }\n",
              "\n",
              "    [theme=dark] .colab-df-convert:hover {\n",
              "      background-color: #434B5C;\n",
              "      box-shadow: 0px 1px 3px 1px rgba(0, 0, 0, 0.15);\n",
              "      filter: drop-shadow(0px 1px 2px rgba(0, 0, 0, 0.3));\n",
              "      fill: #FFFFFF;\n",
              "    }\n",
              "  </style>\n",
              "\n",
              "    <script>\n",
              "      const buttonEl =\n",
              "        document.querySelector('#df-28c5364d-e4b2-41a4-9aa3-e6d29d10e591 button.colab-df-convert');\n",
              "      buttonEl.style.display =\n",
              "        google.colab.kernel.accessAllowed ? 'block' : 'none';\n",
              "\n",
              "      async function convertToInteractive(key) {\n",
              "        const element = document.querySelector('#df-28c5364d-e4b2-41a4-9aa3-e6d29d10e591');\n",
              "        const dataTable =\n",
              "          await google.colab.kernel.invokeFunction('convertToInteractive',\n",
              "                                                    [key], {});\n",
              "        if (!dataTable) return;\n",
              "\n",
              "        const docLinkHtml = 'Like what you see? Visit the ' +\n",
              "          '<a target=\"_blank\" href=https://colab.research.google.com/notebooks/data_table.ipynb>data table notebook</a>'\n",
              "          + ' to learn more about interactive tables.';\n",
              "        element.innerHTML = '';\n",
              "        dataTable['output_type'] = 'display_data';\n",
              "        await google.colab.output.renderOutput(dataTable, element);\n",
              "        const docLink = document.createElement('div');\n",
              "        docLink.innerHTML = docLinkHtml;\n",
              "        element.appendChild(docLink);\n",
              "      }\n",
              "    </script>\n",
              "  </div>\n",
              "\n",
              "\n",
              "<div id=\"df-5dfac7d1-e84f-4302-b261-c54fe5111a60\">\n",
              "  <button class=\"colab-df-quickchart\" onclick=\"quickchart('df-5dfac7d1-e84f-4302-b261-c54fe5111a60')\"\n",
              "            title=\"Suggest charts.\"\n",
              "            style=\"display:none;\">\n",
              "\n",
              "<svg xmlns=\"http://www.w3.org/2000/svg\" height=\"24px\"viewBox=\"0 0 24 24\"\n",
              "     width=\"24px\">\n",
              "    <g>\n",
              "        <path d=\"M19 3H5c-1.1 0-2 .9-2 2v14c0 1.1.9 2 2 2h14c1.1 0 2-.9 2-2V5c0-1.1-.9-2-2-2zM9 17H7v-7h2v7zm4 0h-2V7h2v10zm4 0h-2v-4h2v4z\"/>\n",
              "    </g>\n",
              "</svg>\n",
              "  </button>\n",
              "\n",
              "<style>\n",
              "  .colab-df-quickchart {\n",
              "      --bg-color: #E8F0FE;\n",
              "      --fill-color: #1967D2;\n",
              "      --hover-bg-color: #E2EBFA;\n",
              "      --hover-fill-color: #174EA6;\n",
              "      --disabled-fill-color: #AAA;\n",
              "      --disabled-bg-color: #DDD;\n",
              "  }\n",
              "\n",
              "  [theme=dark] .colab-df-quickchart {\n",
              "      --bg-color: #3B4455;\n",
              "      --fill-color: #D2E3FC;\n",
              "      --hover-bg-color: #434B5C;\n",
              "      --hover-fill-color: #FFFFFF;\n",
              "      --disabled-bg-color: #3B4455;\n",
              "      --disabled-fill-color: #666;\n",
              "  }\n",
              "\n",
              "  .colab-df-quickchart {\n",
              "    background-color: var(--bg-color);\n",
              "    border: none;\n",
              "    border-radius: 50%;\n",
              "    cursor: pointer;\n",
              "    display: none;\n",
              "    fill: var(--fill-color);\n",
              "    height: 32px;\n",
              "    padding: 0;\n",
              "    width: 32px;\n",
              "  }\n",
              "\n",
              "  .colab-df-quickchart:hover {\n",
              "    background-color: var(--hover-bg-color);\n",
              "    box-shadow: 0 1px 2px rgba(60, 64, 67, 0.3), 0 1px 3px 1px rgba(60, 64, 67, 0.15);\n",
              "    fill: var(--button-hover-fill-color);\n",
              "  }\n",
              "\n",
              "  .colab-df-quickchart-complete:disabled,\n",
              "  .colab-df-quickchart-complete:disabled:hover {\n",
              "    background-color: var(--disabled-bg-color);\n",
              "    fill: var(--disabled-fill-color);\n",
              "    box-shadow: none;\n",
              "  }\n",
              "\n",
              "  .colab-df-spinner {\n",
              "    border: 2px solid var(--fill-color);\n",
              "    border-color: transparent;\n",
              "    border-bottom-color: var(--fill-color);\n",
              "    animation:\n",
              "      spin 1s steps(1) infinite;\n",
              "  }\n",
              "\n",
              "  @keyframes spin {\n",
              "    0% {\n",
              "      border-color: transparent;\n",
              "      border-bottom-color: var(--fill-color);\n",
              "      border-left-color: var(--fill-color);\n",
              "    }\n",
              "    20% {\n",
              "      border-color: transparent;\n",
              "      border-left-color: var(--fill-color);\n",
              "      border-top-color: var(--fill-color);\n",
              "    }\n",
              "    30% {\n",
              "      border-color: transparent;\n",
              "      border-left-color: var(--fill-color);\n",
              "      border-top-color: var(--fill-color);\n",
              "      border-right-color: var(--fill-color);\n",
              "    }\n",
              "    40% {\n",
              "      border-color: transparent;\n",
              "      border-right-color: var(--fill-color);\n",
              "      border-top-color: var(--fill-color);\n",
              "    }\n",
              "    60% {\n",
              "      border-color: transparent;\n",
              "      border-right-color: var(--fill-color);\n",
              "    }\n",
              "    80% {\n",
              "      border-color: transparent;\n",
              "      border-right-color: var(--fill-color);\n",
              "      border-bottom-color: var(--fill-color);\n",
              "    }\n",
              "    90% {\n",
              "      border-color: transparent;\n",
              "      border-bottom-color: var(--fill-color);\n",
              "    }\n",
              "  }\n",
              "</style>\n",
              "\n",
              "  <script>\n",
              "    async function quickchart(key) {\n",
              "      const quickchartButtonEl =\n",
              "        document.querySelector('#' + key + ' button');\n",
              "      quickchartButtonEl.disabled = true;  // To prevent multiple clicks.\n",
              "      quickchartButtonEl.classList.add('colab-df-spinner');\n",
              "      try {\n",
              "        const charts = await google.colab.kernel.invokeFunction(\n",
              "            'suggestCharts', [key], {});\n",
              "      } catch (error) {\n",
              "        console.error('Error during call to suggestCharts:', error);\n",
              "      }\n",
              "      quickchartButtonEl.classList.remove('colab-df-spinner');\n",
              "      quickchartButtonEl.classList.add('colab-df-quickchart-complete');\n",
              "    }\n",
              "    (() => {\n",
              "      let quickchartButtonEl =\n",
              "        document.querySelector('#df-5dfac7d1-e84f-4302-b261-c54fe5111a60 button');\n",
              "      quickchartButtonEl.style.display =\n",
              "        google.colab.kernel.accessAllowed ? 'block' : 'none';\n",
              "    })();\n",
              "  </script>\n",
              "</div>\n",
              "    </div>\n",
              "  </div>\n"
            ]
          },
          "metadata": {},
          "execution_count": 128
        }
      ]
    },
    {
      "cell_type": "code",
      "source": [
        "df_movimento = spark.createDataFrame(df_movimento)"
      ],
      "metadata": {
        "id": "6-e_rg74wscQ"
      },
      "execution_count": 129,
      "outputs": []
    },
    {
      "cell_type": "code",
      "source": [
        "df_movimento.show()"
      ],
      "metadata": {
        "colab": {
          "base_uri": "https://localhost:8080/"
        },
        "id": "dYiJEvQ0w20Y",
        "outputId": "3feffe9b-1d75-4827-c4f1-c6325b097c4d"
      },
      "execution_count": 130,
      "outputs": [
        {
          "output_type": "stream",
          "name": "stdout",
          "text": [
            "+---+-------------+-------------+-------------------+------------+\n",
            "| id|vlr_transacao|des_transacao|     data_movimento|   id_cartao|\n",
            "+---+-------------+-------------+-------------------+------------+\n",
            "|  1|         50.0|     Netshoes|2020-01-27 12:00:00|      Visa01|\n",
            "|  2|         75.0|       Amazon|2020-01-28 13:30:00|Mastercard01|\n",
            "|  3|         30.5|      Walmart|2020-01-29 15:15:00|      Visa02|\n",
            "|  4|        20.25|         Ebay|2020-01-30 09:45:00|      Amex01|\n",
            "|  5|        45.75|   Eletroshop|2020-02-01 14:20:00|Mastercard02|\n",
            "|  6|         22.9|       Target|2020-02-02 16:40:00|      Visa03|\n",
            "|  7|         18.6|     Best Buy|2020-02-03 11:10:00|      Amex02|\n",
            "|  8|         67.2|      Walmart|2020-02-04 10:30:00|      Visa04|\n",
            "|  9|         12.5|       Amazon|2020-02-05 17:25:00|Mastercard03|\n",
            "| 10|         38.9|  Apple Store|2020-02-06 14:55:00|      Amex03|\n",
            "| 11|        54.75|         Nike|2020-02-07 09:20:00|      Visa05|\n",
            "| 12|        29.99|    Starbucks|2020-02-08 13:45:00|Mastercard04|\n",
            "| 13|        14.25|          H&M|2020-02-09 11:30:00|      Visa06|\n",
            "| 14|         40.5|         Zara|2020-02-10 14:10:00|      Amex04|\n",
            "| 15|         75.8|     McDonald|2020-02-11 18:05:00|Mastercard05|\n",
            "| 16|         27.6|  Burger King|2020-02-12 16:15:00|      Visa07|\n",
            "| 17|         36.4|       Subway|2020-02-13 10:55:00|Mastercard06|\n",
            "| 18|        19.95|       Domino|2020-02-14 12:40:00|      Amex05|\n",
            "| 19|         48.3|          KFC|2020-02-15 09:10:00|      Visa08|\n",
            "| 20|         63.7|    Pizza Hut|2020-02-16 15:30:00|Mastercard07|\n",
            "+---+-------------+-------------+-------------------+------------+\n",
            "only showing top 20 rows\n",
            "\n"
          ]
        }
      ]
    },
    {
      "cell_type": "markdown",
      "source": [
        "# **Criação do DF TB_Conta**"
      ],
      "metadata": {
        "id": "mbJA3JkGxTFg"
      }
    },
    {
      "cell_type": "code",
      "source": [
        "qry_conta= \"\"\"\n",
        "SELECT * FROM conta\n",
        "\"\"\"\n",
        "df_conta = pd.read_sql_query(qry_conta, conn)\n",
        "df_conta.head()"
      ],
      "metadata": {
        "colab": {
          "base_uri": "https://localhost:8080/",
          "height": 206
        },
        "id": "mlKmfCrAxPGB",
        "outputId": "ef901ff9-439e-4a39-d3c2-91e6fb6da310"
      },
      "execution_count": 131,
      "outputs": [
        {
          "output_type": "execute_result",
          "data": {
            "text/plain": [
              "   id_conta            tipo         data_criacao  id_associado\n",
              "0       101  Conta Corrente  2000-05-01 00:00:00             1\n",
              "1       102  Conta Corrente  2005-07-03 00:00:00             2\n",
              "2       103  Conta Corrente  2010-12-12 00:00:00             3\n",
              "3       104  Conta Corrente  2012-09-22 00:00:00             4\n",
              "4       105  Conta Corrente  2003-03-15 00:00:00             5"
            ],
            "text/html": [
              "\n",
              "  <div id=\"df-9d361a70-5fea-46e3-8a14-52fefd403165\" class=\"colab-df-container\">\n",
              "    <div>\n",
              "<style scoped>\n",
              "    .dataframe tbody tr th:only-of-type {\n",
              "        vertical-align: middle;\n",
              "    }\n",
              "\n",
              "    .dataframe tbody tr th {\n",
              "        vertical-align: top;\n",
              "    }\n",
              "\n",
              "    .dataframe thead th {\n",
              "        text-align: right;\n",
              "    }\n",
              "</style>\n",
              "<table border=\"1\" class=\"dataframe\">\n",
              "  <thead>\n",
              "    <tr style=\"text-align: right;\">\n",
              "      <th></th>\n",
              "      <th>id_conta</th>\n",
              "      <th>tipo</th>\n",
              "      <th>data_criacao</th>\n",
              "      <th>id_associado</th>\n",
              "    </tr>\n",
              "  </thead>\n",
              "  <tbody>\n",
              "    <tr>\n",
              "      <th>0</th>\n",
              "      <td>101</td>\n",
              "      <td>Conta Corrente</td>\n",
              "      <td>2000-05-01 00:00:00</td>\n",
              "      <td>1</td>\n",
              "    </tr>\n",
              "    <tr>\n",
              "      <th>1</th>\n",
              "      <td>102</td>\n",
              "      <td>Conta Corrente</td>\n",
              "      <td>2005-07-03 00:00:00</td>\n",
              "      <td>2</td>\n",
              "    </tr>\n",
              "    <tr>\n",
              "      <th>2</th>\n",
              "      <td>103</td>\n",
              "      <td>Conta Corrente</td>\n",
              "      <td>2010-12-12 00:00:00</td>\n",
              "      <td>3</td>\n",
              "    </tr>\n",
              "    <tr>\n",
              "      <th>3</th>\n",
              "      <td>104</td>\n",
              "      <td>Conta Corrente</td>\n",
              "      <td>2012-09-22 00:00:00</td>\n",
              "      <td>4</td>\n",
              "    </tr>\n",
              "    <tr>\n",
              "      <th>4</th>\n",
              "      <td>105</td>\n",
              "      <td>Conta Corrente</td>\n",
              "      <td>2003-03-15 00:00:00</td>\n",
              "      <td>5</td>\n",
              "    </tr>\n",
              "  </tbody>\n",
              "</table>\n",
              "</div>\n",
              "    <div class=\"colab-df-buttons\">\n",
              "\n",
              "  <div class=\"colab-df-container\">\n",
              "    <button class=\"colab-df-convert\" onclick=\"convertToInteractive('df-9d361a70-5fea-46e3-8a14-52fefd403165')\"\n",
              "            title=\"Convert this dataframe to an interactive table.\"\n",
              "            style=\"display:none;\">\n",
              "\n",
              "  <svg xmlns=\"http://www.w3.org/2000/svg\" height=\"24px\" viewBox=\"0 -960 960 960\">\n",
              "    <path d=\"M120-120v-720h720v720H120Zm60-500h600v-160H180v160Zm220 220h160v-160H400v160Zm0 220h160v-160H400v160ZM180-400h160v-160H180v160Zm440 0h160v-160H620v160ZM180-180h160v-160H180v160Zm440 0h160v-160H620v160Z\"/>\n",
              "  </svg>\n",
              "    </button>\n",
              "\n",
              "  <style>\n",
              "    .colab-df-container {\n",
              "      display:flex;\n",
              "      gap: 12px;\n",
              "    }\n",
              "\n",
              "    .colab-df-convert {\n",
              "      background-color: #E8F0FE;\n",
              "      border: none;\n",
              "      border-radius: 50%;\n",
              "      cursor: pointer;\n",
              "      display: none;\n",
              "      fill: #1967D2;\n",
              "      height: 32px;\n",
              "      padding: 0 0 0 0;\n",
              "      width: 32px;\n",
              "    }\n",
              "\n",
              "    .colab-df-convert:hover {\n",
              "      background-color: #E2EBFA;\n",
              "      box-shadow: 0px 1px 2px rgba(60, 64, 67, 0.3), 0px 1px 3px 1px rgba(60, 64, 67, 0.15);\n",
              "      fill: #174EA6;\n",
              "    }\n",
              "\n",
              "    .colab-df-buttons div {\n",
              "      margin-bottom: 4px;\n",
              "    }\n",
              "\n",
              "    [theme=dark] .colab-df-convert {\n",
              "      background-color: #3B4455;\n",
              "      fill: #D2E3FC;\n",
              "    }\n",
              "\n",
              "    [theme=dark] .colab-df-convert:hover {\n",
              "      background-color: #434B5C;\n",
              "      box-shadow: 0px 1px 3px 1px rgba(0, 0, 0, 0.15);\n",
              "      filter: drop-shadow(0px 1px 2px rgba(0, 0, 0, 0.3));\n",
              "      fill: #FFFFFF;\n",
              "    }\n",
              "  </style>\n",
              "\n",
              "    <script>\n",
              "      const buttonEl =\n",
              "        document.querySelector('#df-9d361a70-5fea-46e3-8a14-52fefd403165 button.colab-df-convert');\n",
              "      buttonEl.style.display =\n",
              "        google.colab.kernel.accessAllowed ? 'block' : 'none';\n",
              "\n",
              "      async function convertToInteractive(key) {\n",
              "        const element = document.querySelector('#df-9d361a70-5fea-46e3-8a14-52fefd403165');\n",
              "        const dataTable =\n",
              "          await google.colab.kernel.invokeFunction('convertToInteractive',\n",
              "                                                    [key], {});\n",
              "        if (!dataTable) return;\n",
              "\n",
              "        const docLinkHtml = 'Like what you see? Visit the ' +\n",
              "          '<a target=\"_blank\" href=https://colab.research.google.com/notebooks/data_table.ipynb>data table notebook</a>'\n",
              "          + ' to learn more about interactive tables.';\n",
              "        element.innerHTML = '';\n",
              "        dataTable['output_type'] = 'display_data';\n",
              "        await google.colab.output.renderOutput(dataTable, element);\n",
              "        const docLink = document.createElement('div');\n",
              "        docLink.innerHTML = docLinkHtml;\n",
              "        element.appendChild(docLink);\n",
              "      }\n",
              "    </script>\n",
              "  </div>\n",
              "\n",
              "\n",
              "<div id=\"df-948e803b-9b34-4e15-a5b1-1ba6dfc8a1f2\">\n",
              "  <button class=\"colab-df-quickchart\" onclick=\"quickchart('df-948e803b-9b34-4e15-a5b1-1ba6dfc8a1f2')\"\n",
              "            title=\"Suggest charts.\"\n",
              "            style=\"display:none;\">\n",
              "\n",
              "<svg xmlns=\"http://www.w3.org/2000/svg\" height=\"24px\"viewBox=\"0 0 24 24\"\n",
              "     width=\"24px\">\n",
              "    <g>\n",
              "        <path d=\"M19 3H5c-1.1 0-2 .9-2 2v14c0 1.1.9 2 2 2h14c1.1 0 2-.9 2-2V5c0-1.1-.9-2-2-2zM9 17H7v-7h2v7zm4 0h-2V7h2v10zm4 0h-2v-4h2v4z\"/>\n",
              "    </g>\n",
              "</svg>\n",
              "  </button>\n",
              "\n",
              "<style>\n",
              "  .colab-df-quickchart {\n",
              "      --bg-color: #E8F0FE;\n",
              "      --fill-color: #1967D2;\n",
              "      --hover-bg-color: #E2EBFA;\n",
              "      --hover-fill-color: #174EA6;\n",
              "      --disabled-fill-color: #AAA;\n",
              "      --disabled-bg-color: #DDD;\n",
              "  }\n",
              "\n",
              "  [theme=dark] .colab-df-quickchart {\n",
              "      --bg-color: #3B4455;\n",
              "      --fill-color: #D2E3FC;\n",
              "      --hover-bg-color: #434B5C;\n",
              "      --hover-fill-color: #FFFFFF;\n",
              "      --disabled-bg-color: #3B4455;\n",
              "      --disabled-fill-color: #666;\n",
              "  }\n",
              "\n",
              "  .colab-df-quickchart {\n",
              "    background-color: var(--bg-color);\n",
              "    border: none;\n",
              "    border-radius: 50%;\n",
              "    cursor: pointer;\n",
              "    display: none;\n",
              "    fill: var(--fill-color);\n",
              "    height: 32px;\n",
              "    padding: 0;\n",
              "    width: 32px;\n",
              "  }\n",
              "\n",
              "  .colab-df-quickchart:hover {\n",
              "    background-color: var(--hover-bg-color);\n",
              "    box-shadow: 0 1px 2px rgba(60, 64, 67, 0.3), 0 1px 3px 1px rgba(60, 64, 67, 0.15);\n",
              "    fill: var(--button-hover-fill-color);\n",
              "  }\n",
              "\n",
              "  .colab-df-quickchart-complete:disabled,\n",
              "  .colab-df-quickchart-complete:disabled:hover {\n",
              "    background-color: var(--disabled-bg-color);\n",
              "    fill: var(--disabled-fill-color);\n",
              "    box-shadow: none;\n",
              "  }\n",
              "\n",
              "  .colab-df-spinner {\n",
              "    border: 2px solid var(--fill-color);\n",
              "    border-color: transparent;\n",
              "    border-bottom-color: var(--fill-color);\n",
              "    animation:\n",
              "      spin 1s steps(1) infinite;\n",
              "  }\n",
              "\n",
              "  @keyframes spin {\n",
              "    0% {\n",
              "      border-color: transparent;\n",
              "      border-bottom-color: var(--fill-color);\n",
              "      border-left-color: var(--fill-color);\n",
              "    }\n",
              "    20% {\n",
              "      border-color: transparent;\n",
              "      border-left-color: var(--fill-color);\n",
              "      border-top-color: var(--fill-color);\n",
              "    }\n",
              "    30% {\n",
              "      border-color: transparent;\n",
              "      border-left-color: var(--fill-color);\n",
              "      border-top-color: var(--fill-color);\n",
              "      border-right-color: var(--fill-color);\n",
              "    }\n",
              "    40% {\n",
              "      border-color: transparent;\n",
              "      border-right-color: var(--fill-color);\n",
              "      border-top-color: var(--fill-color);\n",
              "    }\n",
              "    60% {\n",
              "      border-color: transparent;\n",
              "      border-right-color: var(--fill-color);\n",
              "    }\n",
              "    80% {\n",
              "      border-color: transparent;\n",
              "      border-right-color: var(--fill-color);\n",
              "      border-bottom-color: var(--fill-color);\n",
              "    }\n",
              "    90% {\n",
              "      border-color: transparent;\n",
              "      border-bottom-color: var(--fill-color);\n",
              "    }\n",
              "  }\n",
              "</style>\n",
              "\n",
              "  <script>\n",
              "    async function quickchart(key) {\n",
              "      const quickchartButtonEl =\n",
              "        document.querySelector('#' + key + ' button');\n",
              "      quickchartButtonEl.disabled = true;  // To prevent multiple clicks.\n",
              "      quickchartButtonEl.classList.add('colab-df-spinner');\n",
              "      try {\n",
              "        const charts = await google.colab.kernel.invokeFunction(\n",
              "            'suggestCharts', [key], {});\n",
              "      } catch (error) {\n",
              "        console.error('Error during call to suggestCharts:', error);\n",
              "      }\n",
              "      quickchartButtonEl.classList.remove('colab-df-spinner');\n",
              "      quickchartButtonEl.classList.add('colab-df-quickchart-complete');\n",
              "    }\n",
              "    (() => {\n",
              "      let quickchartButtonEl =\n",
              "        document.querySelector('#df-948e803b-9b34-4e15-a5b1-1ba6dfc8a1f2 button');\n",
              "      quickchartButtonEl.style.display =\n",
              "        google.colab.kernel.accessAllowed ? 'block' : 'none';\n",
              "    })();\n",
              "  </script>\n",
              "</div>\n",
              "    </div>\n",
              "  </div>\n"
            ]
          },
          "metadata": {},
          "execution_count": 131
        }
      ]
    },
    {
      "cell_type": "code",
      "source": [
        "df_conta = spark.createDataFrame(df_conta)"
      ],
      "metadata": {
        "id": "yIE_DqAGxY55"
      },
      "execution_count": 132,
      "outputs": []
    },
    {
      "cell_type": "code",
      "source": [
        "df_conta.show()"
      ],
      "metadata": {
        "colab": {
          "base_uri": "https://localhost:8080/"
        },
        "id": "0A5HGdbfxanJ",
        "outputId": "5d6e8e50-ed82-436a-e7e6-8fa93a529a7e"
      },
      "execution_count": 133,
      "outputs": [
        {
          "output_type": "stream",
          "name": "stdout",
          "text": [
            "+--------+--------------+-------------------+------------+\n",
            "|id_conta|          tipo|       data_criacao|id_associado|\n",
            "+--------+--------------+-------------------+------------+\n",
            "|     101|Conta Corrente|2000-05-01 00:00:00|           1|\n",
            "|     102|Conta Corrente|2005-07-03 00:00:00|           2|\n",
            "|     103|Conta Corrente|2010-12-12 00:00:00|           3|\n",
            "|     104|Conta Corrente|2012-09-22 00:00:00|           4|\n",
            "|     105|Conta Corrente|2003-03-15 00:00:00|           5|\n",
            "|     106|Conta Corrente|2008-08-10 00:00:00|           6|\n",
            "|     107|Conta Corrente|2015-06-19 00:00:00|           7|\n",
            "|     108|Conta Corrente|2011-02-27 00:00:00|           8|\n",
            "|     109|Conta Corrente|2007-11-07 00:00:00|           9|\n",
            "|     110|Conta Corrente|2005-04-14 00:00:00|          10|\n",
            "|     111|Conta Corrente|2013-10-09 00:00:00|          11|\n",
            "|     112|Conta Corrente|2018-01-06 00:00:00|          12|\n",
            "|     113|Conta Corrente|2016-05-20 00:00:00|          13|\n",
            "|     114|Conta Corrente|2014-09-18 00:00:00|          14|\n",
            "|     115|Conta Corrente|2009-03-03 00:00:00|          15|\n",
            "|     116|Conta Corrente|2017-12-30 00:00:00|          16|\n",
            "|     117|Conta Corrente|2006-08-25 00:00:00|          17|\n",
            "|     118|Conta Corrente|2011-06-11 00:00:00|          18|\n",
            "|     119|Conta Corrente|2012-04-02 00:00:00|          19|\n",
            "|     120|Conta Corrente|2019-07-12 00:00:00|          20|\n",
            "+--------+--------------+-------------------+------------+\n",
            "only showing top 20 rows\n",
            "\n"
          ]
        }
      ]
    },
    {
      "cell_type": "markdown",
      "source": [],
      "metadata": {
        "id": "aR990OZoxoXg"
      }
    },
    {
      "cell_type": "markdown",
      "source": [
        "# **Criação do DF TB_Associado**\n",
        "\n"
      ],
      "metadata": {
        "id": "EqOjf3juxp9X"
      }
    },
    {
      "cell_type": "code",
      "source": [
        "qry_associado= \"\"\"\n",
        "SELECT * FROM associado\n",
        "\"\"\"\n",
        "df_associado = pd.read_sql_query(qry_associado, conn)\n",
        "df_associado.head()"
      ],
      "metadata": {
        "colab": {
          "base_uri": "https://localhost:8080/",
          "height": 206
        },
        "outputId": "7a736644-db4c-4098-8db5-81efcfbf097f",
        "id": "h5cgqRa9xp9X"
      },
      "execution_count": 134,
      "outputs": [
        {
          "output_type": "execute_result",
          "data": {
            "text/plain": [
              "   id_associado   nome sobrenome  idade                         email\n",
              "0             1   Axel   Hoffman     45  pellentesque.massa@yahoo.edu\n",
              "1             2  Maria     Silva     35         maria.silva@email.com\n",
              "2             3   João   Pereira     28        joao.pereira@email.com\n",
              "3             4   Luis    Santos     40         luis.santos@email.com\n",
              "4             5  Laura  Oliveira     33      laura.oliveira@email.com"
            ],
            "text/html": [
              "\n",
              "  <div id=\"df-36e61210-3e15-45fc-8628-259a9e99177c\" class=\"colab-df-container\">\n",
              "    <div>\n",
              "<style scoped>\n",
              "    .dataframe tbody tr th:only-of-type {\n",
              "        vertical-align: middle;\n",
              "    }\n",
              "\n",
              "    .dataframe tbody tr th {\n",
              "        vertical-align: top;\n",
              "    }\n",
              "\n",
              "    .dataframe thead th {\n",
              "        text-align: right;\n",
              "    }\n",
              "</style>\n",
              "<table border=\"1\" class=\"dataframe\">\n",
              "  <thead>\n",
              "    <tr style=\"text-align: right;\">\n",
              "      <th></th>\n",
              "      <th>id_associado</th>\n",
              "      <th>nome</th>\n",
              "      <th>sobrenome</th>\n",
              "      <th>idade</th>\n",
              "      <th>email</th>\n",
              "    </tr>\n",
              "  </thead>\n",
              "  <tbody>\n",
              "    <tr>\n",
              "      <th>0</th>\n",
              "      <td>1</td>\n",
              "      <td>Axel</td>\n",
              "      <td>Hoffman</td>\n",
              "      <td>45</td>\n",
              "      <td>pellentesque.massa@yahoo.edu</td>\n",
              "    </tr>\n",
              "    <tr>\n",
              "      <th>1</th>\n",
              "      <td>2</td>\n",
              "      <td>Maria</td>\n",
              "      <td>Silva</td>\n",
              "      <td>35</td>\n",
              "      <td>maria.silva@email.com</td>\n",
              "    </tr>\n",
              "    <tr>\n",
              "      <th>2</th>\n",
              "      <td>3</td>\n",
              "      <td>João</td>\n",
              "      <td>Pereira</td>\n",
              "      <td>28</td>\n",
              "      <td>joao.pereira@email.com</td>\n",
              "    </tr>\n",
              "    <tr>\n",
              "      <th>3</th>\n",
              "      <td>4</td>\n",
              "      <td>Luis</td>\n",
              "      <td>Santos</td>\n",
              "      <td>40</td>\n",
              "      <td>luis.santos@email.com</td>\n",
              "    </tr>\n",
              "    <tr>\n",
              "      <th>4</th>\n",
              "      <td>5</td>\n",
              "      <td>Laura</td>\n",
              "      <td>Oliveira</td>\n",
              "      <td>33</td>\n",
              "      <td>laura.oliveira@email.com</td>\n",
              "    </tr>\n",
              "  </tbody>\n",
              "</table>\n",
              "</div>\n",
              "    <div class=\"colab-df-buttons\">\n",
              "\n",
              "  <div class=\"colab-df-container\">\n",
              "    <button class=\"colab-df-convert\" onclick=\"convertToInteractive('df-36e61210-3e15-45fc-8628-259a9e99177c')\"\n",
              "            title=\"Convert this dataframe to an interactive table.\"\n",
              "            style=\"display:none;\">\n",
              "\n",
              "  <svg xmlns=\"http://www.w3.org/2000/svg\" height=\"24px\" viewBox=\"0 -960 960 960\">\n",
              "    <path d=\"M120-120v-720h720v720H120Zm60-500h600v-160H180v160Zm220 220h160v-160H400v160Zm0 220h160v-160H400v160ZM180-400h160v-160H180v160Zm440 0h160v-160H620v160ZM180-180h160v-160H180v160Zm440 0h160v-160H620v160Z\"/>\n",
              "  </svg>\n",
              "    </button>\n",
              "\n",
              "  <style>\n",
              "    .colab-df-container {\n",
              "      display:flex;\n",
              "      gap: 12px;\n",
              "    }\n",
              "\n",
              "    .colab-df-convert {\n",
              "      background-color: #E8F0FE;\n",
              "      border: none;\n",
              "      border-radius: 50%;\n",
              "      cursor: pointer;\n",
              "      display: none;\n",
              "      fill: #1967D2;\n",
              "      height: 32px;\n",
              "      padding: 0 0 0 0;\n",
              "      width: 32px;\n",
              "    }\n",
              "\n",
              "    .colab-df-convert:hover {\n",
              "      background-color: #E2EBFA;\n",
              "      box-shadow: 0px 1px 2px rgba(60, 64, 67, 0.3), 0px 1px 3px 1px rgba(60, 64, 67, 0.15);\n",
              "      fill: #174EA6;\n",
              "    }\n",
              "\n",
              "    .colab-df-buttons div {\n",
              "      margin-bottom: 4px;\n",
              "    }\n",
              "\n",
              "    [theme=dark] .colab-df-convert {\n",
              "      background-color: #3B4455;\n",
              "      fill: #D2E3FC;\n",
              "    }\n",
              "\n",
              "    [theme=dark] .colab-df-convert:hover {\n",
              "      background-color: #434B5C;\n",
              "      box-shadow: 0px 1px 3px 1px rgba(0, 0, 0, 0.15);\n",
              "      filter: drop-shadow(0px 1px 2px rgba(0, 0, 0, 0.3));\n",
              "      fill: #FFFFFF;\n",
              "    }\n",
              "  </style>\n",
              "\n",
              "    <script>\n",
              "      const buttonEl =\n",
              "        document.querySelector('#df-36e61210-3e15-45fc-8628-259a9e99177c button.colab-df-convert');\n",
              "      buttonEl.style.display =\n",
              "        google.colab.kernel.accessAllowed ? 'block' : 'none';\n",
              "\n",
              "      async function convertToInteractive(key) {\n",
              "        const element = document.querySelector('#df-36e61210-3e15-45fc-8628-259a9e99177c');\n",
              "        const dataTable =\n",
              "          await google.colab.kernel.invokeFunction('convertToInteractive',\n",
              "                                                    [key], {});\n",
              "        if (!dataTable) return;\n",
              "\n",
              "        const docLinkHtml = 'Like what you see? Visit the ' +\n",
              "          '<a target=\"_blank\" href=https://colab.research.google.com/notebooks/data_table.ipynb>data table notebook</a>'\n",
              "          + ' to learn more about interactive tables.';\n",
              "        element.innerHTML = '';\n",
              "        dataTable['output_type'] = 'display_data';\n",
              "        await google.colab.output.renderOutput(dataTable, element);\n",
              "        const docLink = document.createElement('div');\n",
              "        docLink.innerHTML = docLinkHtml;\n",
              "        element.appendChild(docLink);\n",
              "      }\n",
              "    </script>\n",
              "  </div>\n",
              "\n",
              "\n",
              "<div id=\"df-4a33952f-dbad-4d54-81a3-8a1b18f472f4\">\n",
              "  <button class=\"colab-df-quickchart\" onclick=\"quickchart('df-4a33952f-dbad-4d54-81a3-8a1b18f472f4')\"\n",
              "            title=\"Suggest charts.\"\n",
              "            style=\"display:none;\">\n",
              "\n",
              "<svg xmlns=\"http://www.w3.org/2000/svg\" height=\"24px\"viewBox=\"0 0 24 24\"\n",
              "     width=\"24px\">\n",
              "    <g>\n",
              "        <path d=\"M19 3H5c-1.1 0-2 .9-2 2v14c0 1.1.9 2 2 2h14c1.1 0 2-.9 2-2V5c0-1.1-.9-2-2-2zM9 17H7v-7h2v7zm4 0h-2V7h2v10zm4 0h-2v-4h2v4z\"/>\n",
              "    </g>\n",
              "</svg>\n",
              "  </button>\n",
              "\n",
              "<style>\n",
              "  .colab-df-quickchart {\n",
              "      --bg-color: #E8F0FE;\n",
              "      --fill-color: #1967D2;\n",
              "      --hover-bg-color: #E2EBFA;\n",
              "      --hover-fill-color: #174EA6;\n",
              "      --disabled-fill-color: #AAA;\n",
              "      --disabled-bg-color: #DDD;\n",
              "  }\n",
              "\n",
              "  [theme=dark] .colab-df-quickchart {\n",
              "      --bg-color: #3B4455;\n",
              "      --fill-color: #D2E3FC;\n",
              "      --hover-bg-color: #434B5C;\n",
              "      --hover-fill-color: #FFFFFF;\n",
              "      --disabled-bg-color: #3B4455;\n",
              "      --disabled-fill-color: #666;\n",
              "  }\n",
              "\n",
              "  .colab-df-quickchart {\n",
              "    background-color: var(--bg-color);\n",
              "    border: none;\n",
              "    border-radius: 50%;\n",
              "    cursor: pointer;\n",
              "    display: none;\n",
              "    fill: var(--fill-color);\n",
              "    height: 32px;\n",
              "    padding: 0;\n",
              "    width: 32px;\n",
              "  }\n",
              "\n",
              "  .colab-df-quickchart:hover {\n",
              "    background-color: var(--hover-bg-color);\n",
              "    box-shadow: 0 1px 2px rgba(60, 64, 67, 0.3), 0 1px 3px 1px rgba(60, 64, 67, 0.15);\n",
              "    fill: var(--button-hover-fill-color);\n",
              "  }\n",
              "\n",
              "  .colab-df-quickchart-complete:disabled,\n",
              "  .colab-df-quickchart-complete:disabled:hover {\n",
              "    background-color: var(--disabled-bg-color);\n",
              "    fill: var(--disabled-fill-color);\n",
              "    box-shadow: none;\n",
              "  }\n",
              "\n",
              "  .colab-df-spinner {\n",
              "    border: 2px solid var(--fill-color);\n",
              "    border-color: transparent;\n",
              "    border-bottom-color: var(--fill-color);\n",
              "    animation:\n",
              "      spin 1s steps(1) infinite;\n",
              "  }\n",
              "\n",
              "  @keyframes spin {\n",
              "    0% {\n",
              "      border-color: transparent;\n",
              "      border-bottom-color: var(--fill-color);\n",
              "      border-left-color: var(--fill-color);\n",
              "    }\n",
              "    20% {\n",
              "      border-color: transparent;\n",
              "      border-left-color: var(--fill-color);\n",
              "      border-top-color: var(--fill-color);\n",
              "    }\n",
              "    30% {\n",
              "      border-color: transparent;\n",
              "      border-left-color: var(--fill-color);\n",
              "      border-top-color: var(--fill-color);\n",
              "      border-right-color: var(--fill-color);\n",
              "    }\n",
              "    40% {\n",
              "      border-color: transparent;\n",
              "      border-right-color: var(--fill-color);\n",
              "      border-top-color: var(--fill-color);\n",
              "    }\n",
              "    60% {\n",
              "      border-color: transparent;\n",
              "      border-right-color: var(--fill-color);\n",
              "    }\n",
              "    80% {\n",
              "      border-color: transparent;\n",
              "      border-right-color: var(--fill-color);\n",
              "      border-bottom-color: var(--fill-color);\n",
              "    }\n",
              "    90% {\n",
              "      border-color: transparent;\n",
              "      border-bottom-color: var(--fill-color);\n",
              "    }\n",
              "  }\n",
              "</style>\n",
              "\n",
              "  <script>\n",
              "    async function quickchart(key) {\n",
              "      const quickchartButtonEl =\n",
              "        document.querySelector('#' + key + ' button');\n",
              "      quickchartButtonEl.disabled = true;  // To prevent multiple clicks.\n",
              "      quickchartButtonEl.classList.add('colab-df-spinner');\n",
              "      try {\n",
              "        const charts = await google.colab.kernel.invokeFunction(\n",
              "            'suggestCharts', [key], {});\n",
              "      } catch (error) {\n",
              "        console.error('Error during call to suggestCharts:', error);\n",
              "      }\n",
              "      quickchartButtonEl.classList.remove('colab-df-spinner');\n",
              "      quickchartButtonEl.classList.add('colab-df-quickchart-complete');\n",
              "    }\n",
              "    (() => {\n",
              "      let quickchartButtonEl =\n",
              "        document.querySelector('#df-4a33952f-dbad-4d54-81a3-8a1b18f472f4 button');\n",
              "      quickchartButtonEl.style.display =\n",
              "        google.colab.kernel.accessAllowed ? 'block' : 'none';\n",
              "    })();\n",
              "  </script>\n",
              "</div>\n",
              "    </div>\n",
              "  </div>\n"
            ]
          },
          "metadata": {},
          "execution_count": 134
        }
      ]
    },
    {
      "cell_type": "code",
      "source": [
        "df_associado = spark.createDataFrame(df_associado)"
      ],
      "metadata": {
        "id": "rBFpWr6mxp9Y"
      },
      "execution_count": 136,
      "outputs": []
    },
    {
      "cell_type": "code",
      "source": [
        "df_associado.show()"
      ],
      "metadata": {
        "id": "zaQmCEEuxp9Y"
      },
      "execution_count": null,
      "outputs": []
    },
    {
      "cell_type": "markdown",
      "source": [
        "# **Criação do DF TB_Cartão**\n",
        "\n"
      ],
      "metadata": {
        "id": "O0i8JSuJyqKG"
      }
    },
    {
      "cell_type": "code",
      "source": [
        "qry_cartao= \"\"\"\n",
        "SELECT * FROM cartao\n",
        "\"\"\"\n",
        "df_cartao = pd.read_sql_query(qry_cartao, conn)\n",
        "df_cartao.head()"
      ],
      "metadata": {
        "id": "gOxi0QrNyqKH"
      },
      "execution_count": null,
      "outputs": []
    },
    {
      "cell_type": "code",
      "source": [
        "df_cartao = spark.createDataFrame(df_cartao)"
      ],
      "metadata": {
        "id": "-sr7q9odyqKH"
      },
      "execution_count": 139,
      "outputs": []
    },
    {
      "cell_type": "code",
      "source": [
        "df_cartao.show()"
      ],
      "metadata": {
        "id": "vNE2cAB6yqKH"
      },
      "execution_count": null,
      "outputs": []
    },
    {
      "cell_type": "markdown",
      "source": [
        "# **Nova TB movimento_flat**"
      ],
      "metadata": {
        "id": "Tui0zhYXy9mw"
      }
    },
    {
      "cell_type": "code",
      "source": [
        "movimento_flat = df_movimento.join(df_cartao, \"id_cartao\", \"inner\") \\\n",
        "                       .join(df_conta, \"id_associado\", \"inner\") \\\n",
        "                       .join(df_associado, \"id_associado\", \"inner\")\n"
      ],
      "metadata": {
        "id": "hSb35lU-zC0J"
      },
      "execution_count": 150,
      "outputs": []
    },
    {
      "cell_type": "code",
      "source": [
        "movimento_flat = movimento_flat.select(\"nome\", \"sobrenome\", \"idade\", \"vlr_transacao\", \"des_transacao\", \"data_movimento\", \"num_cartao\",\n",
        "                                       \"nom_impresso\", \"tipo\", \"data_criacao\")"
      ],
      "metadata": {
        "id": "kTAjoMrY0RjZ"
      },
      "execution_count": 155,
      "outputs": []
    },
    {
      "cell_type": "code",
      "source": [
        "movimento_flat = movimento_flat.withColumnRenamed(\"nome\", \"nome_associado\")\n",
        "movimento_flat = movimento_flat.withColumnRenamed(\"sobrenome\", \"sobrenome_associado\")\n",
        "movimento_flat = movimento_flat.withColumnRenamed(\"idade\" ,\"idade_associado\")\n",
        "movimento_flat = movimento_flat.withColumnRenamed(\"vlr_transacao\", \"vlr_transacao_movimento\")\n",
        "movimento_flat = movimento_flat.withColumnRenamed(\"des_transacao\", \"des_transacao_movimento\")\n",
        "movimento_flat = movimento_flat.withColumnRenamed(\"data_movimento\", \"data_movimento\")\n",
        "movimento_flat = movimento_flat.withColumnRenamed(\"num_cartao\", \"numero_cartao\")\n",
        "movimento_flat = movimento_flat.withColumnRenamed(\"nom_impresso\", \"nome_impresso_cartao\")\n",
        "movimento_flat = movimento_flat.withColumnRenamed(\"tipo\", \"tipo\")\n",
        "movimento_flat = movimento_flat.withColumnRenamed(\"data_criacao\", \"data_criacao_conta\")"
      ],
      "metadata": {
        "id": "qLWfAQgK18iY"
      },
      "execution_count": 156,
      "outputs": []
    },
    {
      "cell_type": "code",
      "source": [
        "movimento_flat.show()"
      ],
      "metadata": {
        "colab": {
          "base_uri": "https://localhost:8080/"
        },
        "id": "EyFi0roQ1w0Y",
        "outputId": "eebf9e24-bc0a-478c-cb21-6c78582eb2d0"
      },
      "execution_count": 157,
      "outputs": [
        {
          "output_type": "stream",
          "name": "stdout",
          "text": [
            "+--------------+-------------------+---------------+-----------------------+-----------------------+-------------------+----------------+--------------------+--------------+-------------------+\n",
            "|nome_associado|sobrenome_associado|idade_associado|vlr_transacao_movimento|des_transacao_movimento|     data_movimento|   numero_cartao|nome_impresso_cartao|          tipo| data_criacao_conta|\n",
            "+--------------+-------------------+---------------+-----------------------+-----------------------+-------------------+----------------+--------------------+--------------+-------------------+\n",
            "|          Axel|            Hoffman|             45|                   50.0|               Netshoes|2020-01-27 12:00:00|6334583651368754|        Axel Hoffman|Conta Corrente|2000-05-01 00:00:00|\n",
            "|         Maria|              Silva|             35|                   75.0|                 Amazon|2020-01-28 13:30:00|5450787612345678|         Maria Silva|Conta Corrente|2005-07-03 00:00:00|\n",
            "|          João|            Pereira|             28|                   30.5|                Walmart|2020-01-29 15:15:00|4567890123456789|        João Pereira|Conta Corrente|2010-12-12 00:00:00|\n",
            "|          Luis|             Santos|             40|                  20.25|                   Ebay|2020-01-30 09:45:00| 378282246310005|         Luis Santos|Conta Corrente|2012-09-22 00:00:00|\n",
            "|         Laura|           Oliveira|             33|                  45.75|             Eletroshop|2020-02-01 14:20:00|5123456789012345|      Laura Oliveira|Conta Corrente|2003-03-15 00:00:00|\n",
            "|        Carlos|           Ferreira|             37|                   22.9|                 Target|2020-02-02 16:40:00|6011223344556677|     Carlos Ferreira|Conta Corrente|2008-08-10 00:00:00|\n",
            "|           Ana|              Souza|             29|                   18.6|               Best Buy|2020-02-03 11:10:00| 371449635398831|           Ana Souza|Conta Corrente|2015-06-19 00:00:00|\n",
            "|         Pedro|          Rodrigues|             42|                   67.2|                Walmart|2020-02-04 10:30:00|4917951125400640|     Pedro Rodrigues|Conta Corrente|2011-02-27 00:00:00|\n",
            "|       Mariana|             Santos|             31|                   12.5|                 Amazon|2020-02-05 17:25:00|5105105105105100|      Mariana Santos|Conta Corrente|2007-11-07 00:00:00|\n",
            "|       Ricardo|            Pereira|             36|                   38.9|            Apple Store|2020-02-06 14:55:00|  37240907424042|     Ricardo Pereira|Conta Corrente|2005-04-14 00:00:00|\n",
            "|       Juliana|           Oliveira|             27|                  54.75|                   Nike|2020-02-07 09:20:00|4040400040004000|    Juliana Oliveira|Conta Corrente|2013-10-09 00:00:00|\n",
            "|         Lucas|              Silva|             34|                  29.99|              Starbucks|2020-02-08 13:45:00|5555555555555555|         Lucas Silva|Conta Corrente|2018-01-06 00:00:00|\n",
            "|         Carla|          Rodrigues|             38|                  14.25|                    H&M|2020-02-09 11:30:00|4111111111111111|     Carla Rodrigues|Conta Corrente|2016-05-20 00:00:00|\n",
            "|        Daniel|           Ferreira|             41|                   40.5|                   Zara|2020-02-10 14:10:00| 378734493671000|     Daniel Ferreira|Conta Corrente|2014-09-18 00:00:00|\n",
            "|       Isabela|              Souza|             26|                   27.6|            Burger King|2020-02-12 16:15:00|4916749677585942|       Isabela Souza|Conta Corrente|2009-03-03 00:00:00|\n",
            "|        Felipe|           Oliveira|             30|                   75.8|               McDonald|2020-02-11 18:05:00|5204140234347679|     Felipe Oliveira|Conta Corrente|2017-12-30 00:00:00|\n",
            "|        Renata|            Pereira|             32|                   48.3|                    KFC|2020-02-15 09:10:00|4984511671178312|      Renata Pereira|Conta Corrente|2006-08-25 00:00:00|\n",
            "|        Marcos|             Santos|             39|                   36.4|                 Subway|2020-02-13 10:55:00|5301055050054402|       Marcos Santos|Conta Corrente|2011-06-11 00:00:00|\n",
            "|        Camila|          Rodrigues|             43|                  19.95|                 Domino|2020-02-14 12:40:00| 370266620070673|    Camila Rodrigues|Conta Corrente|2012-04-02 00:00:00|\n",
            "|       Gustavo|           Ferreira|             28|                   25.5|              Coca-Cola|2020-02-17 17:20:00|4556789012345670|    Gustavo Ferreira|Conta Corrente|2019-07-12 00:00:00|\n",
            "+--------------+-------------------+---------------+-----------------------+-----------------------+-------------------+----------------+--------------------+--------------+-------------------+\n",
            "only showing top 20 rows\n",
            "\n"
          ]
        }
      ]
    },
    {
      "cell_type": "code",
      "source": [
        "caminho_csv = \"/content/drive/MyDrive/Colab Notebooks/movimento_flat.csv\"\n",
        "\n",
        "movimento_flat.write.csv(caminho_csv, header=True, mode=\"overwrite\")"
      ],
      "metadata": {
        "id": "xuhLkcIr3RjY"
      },
      "execution_count": 158,
      "outputs": []
    }
  ]
}